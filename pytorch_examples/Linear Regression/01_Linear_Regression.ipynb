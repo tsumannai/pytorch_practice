{
 "cells": [
  {
   "cell_type": "code",
   "execution_count": 15,
   "metadata": {
    "collapsed": true
   },
   "outputs": [],
   "source": [
    "import torch\n",
    "from torch import nn\n",
    "import matplotlib.pyplot as plt\n",
    "# Check PyTorch version\n",
    "torch.__version__\n",
    "\n",
    "device = torch.device('cuda' if torch.cuda.is_available() else 'cpu')"
   ]
  },
  {
   "cell_type": "code",
   "execution_count": 16,
   "outputs": [
    {
     "data": {
      "text/plain": "(tensor([[0.0000],\n         [0.0200],\n         [0.0400],\n         [0.0600],\n         [0.0800],\n         [0.1000],\n         [0.1200],\n         [0.1400],\n         [0.1600],\n         [0.1800]]),\n tensor([[0.3000],\n         [0.3140],\n         [0.3280],\n         [0.3420],\n         [0.3560],\n         [0.3700],\n         [0.3840],\n         [0.3980],\n         [0.4120],\n         [0.4260]]))"
     },
     "execution_count": 16,
     "metadata": {},
     "output_type": "execute_result"
    }
   ],
   "source": [
    "# Create *known* parameters\n",
    "weight = 0.7\n",
    "bias = 0.3\n",
    "\n",
    "# Create data\n",
    "start = 0\n",
    "end = 1\n",
    "step = 0.02\n",
    "X = torch.arange(start, end, step).unsqueeze(dim=1)\n",
    "y = weight * X + bias\n",
    "\n",
    "X[:10], y[:10]"
   ],
   "metadata": {
    "collapsed": false
   }
  },
  {
   "cell_type": "code",
   "execution_count": 17,
   "outputs": [
    {
     "data": {
      "text/plain": "(40, 40, 10, 10)"
     },
     "execution_count": 17,
     "metadata": {},
     "output_type": "execute_result"
    }
   ],
   "source": [
    "# Create train/test split\n",
    "train_split = int(0.8 * len(X)) # 80% of data used for training set, 20% for testing\n",
    "X_train, y_train = X[:train_split], y[:train_split]\n",
    "X_test, y_test = X[train_split:], y[train_split:]\n",
    "\n",
    "len(X_train), len(y_train), len(X_test), len(y_test)"
   ],
   "metadata": {
    "collapsed": false
   }
  },
  {
   "cell_type": "code",
   "execution_count": 18,
   "outputs": [],
   "source": [
    "def plot_predictions(train_data=X_train,\n",
    "                     train_labels=y_train,\n",
    "                     test_data=X_test,\n",
    "                     test_labels=y_test,\n",
    "                     predictions=None):\n",
    "  \"\"\"\n",
    "  Plots training data, test data and compares predictions.\n",
    "  \"\"\"\n",
    "  plt.figure(figsize=(10, 7))\n",
    "\n",
    "  # Plot training data in blue\n",
    "  plt.scatter(train_data, train_labels, c=\"b\", s=4, label=\"Training data\")\n",
    "\n",
    "  # Plot test data in green\n",
    "  plt.scatter(test_data, test_labels, c=\"g\", s=4, label=\"Testing data\")\n",
    "\n",
    "  if predictions is not None:\n",
    "    # Plot the predictions in red (predictions were made on the test data)\n",
    "    plt.scatter(test_data, predictions, c=\"r\", s=4, label=\"Predictions\")\n",
    "\n",
    "  # Show the legend\n",
    "  plt.legend(prop={\"size\": 14});"
   ],
   "metadata": {
    "collapsed": false
   }
  },
  {
   "cell_type": "code",
   "execution_count": 19,
   "outputs": [],
   "source": [
    "# Create a Linear Regression model class\n",
    "class LinearRegressionModel(nn.Module): # <- almost everything in PyTorch is a nn.Module (think of this as neural network lego blocks)\n",
    "    def __init__(self):\n",
    "        super().__init__()\n",
    "        self.linear_layer = nn.Linear(in_features=1,\n",
    "                                      out_features=1,\n",
    "                                      dtype=torch.float)\n",
    "    # Forward defines the computation in the model\n",
    "    def forward(self, x: torch.Tensor) -> torch.Tensor: # <- \"x\" is the input data (e.g. training/testing features)\n",
    "        return self.linear_layer(x) # <- this is the linear regression formula (y = m*x + b)"
   ],
   "metadata": {
    "collapsed": false
   }
  },
  {
   "cell_type": "code",
   "execution_count": 20,
   "outputs": [
    {
     "name": "stdout",
     "output_type": "stream",
     "text": [
      "Epoch: 0 | MAE Train Loss: 0.5551779866218567 | MAE Test Loss: 0.5739762187004089 \n",
      "Epoch: 1 | MAE Train Loss: 0.5436570048332214 | MAE Test Loss: 0.560505211353302 \n",
      "Epoch: 2 | MAE Train Loss: 0.5321359634399414 | MAE Test Loss: 0.5470342636108398 \n",
      "Epoch: 3 | MAE Train Loss: 0.5206149816513062 | MAE Test Loss: 0.5335632562637329 \n",
      "Epoch: 4 | MAE Train Loss: 0.5090939998626709 | MAE Test Loss: 0.5200923085212708 \n",
      "Epoch: 5 | MAE Train Loss: 0.49757298827171326 | MAE Test Loss: 0.5066213011741638 \n",
      "Epoch: 6 | MAE Train Loss: 0.4860520362854004 | MAE Test Loss: 0.4931503236293793 \n",
      "Epoch: 7 | MAE Train Loss: 0.47453102469444275 | MAE Test Loss: 0.4796793460845947 \n",
      "Epoch: 8 | MAE Train Loss: 0.4630100429058075 | MAE Test Loss: 0.4662083685398102 \n",
      "Epoch: 9 | MAE Train Loss: 0.45148906111717224 | MAE Test Loss: 0.45273739099502563 \n",
      "Epoch: 10 | MAE Train Loss: 0.439968079328537 | MAE Test Loss: 0.4392664134502411 \n",
      "Epoch: 11 | MAE Train Loss: 0.42844706773757935 | MAE Test Loss: 0.42579540610313416 \n",
      "Epoch: 12 | MAE Train Loss: 0.4169261157512665 | MAE Test Loss: 0.4123244285583496 \n",
      "Epoch: 13 | MAE Train Loss: 0.4054051339626312 | MAE Test Loss: 0.39885345101356506 \n",
      "Epoch: 14 | MAE Train Loss: 0.3938841223716736 | MAE Test Loss: 0.3853824734687805 \n",
      "Epoch: 15 | MAE Train Loss: 0.38236314058303833 | MAE Test Loss: 0.37191149592399597 \n",
      "Epoch: 16 | MAE Train Loss: 0.3708421289920807 | MAE Test Loss: 0.35844048857688904 \n",
      "Epoch: 17 | MAE Train Loss: 0.35932111740112305 | MAE Test Loss: 0.3449695110321045 \n",
      "Epoch: 18 | MAE Train Loss: 0.3478001654148102 | MAE Test Loss: 0.33149853348731995 \n",
      "Epoch: 19 | MAE Train Loss: 0.3362792134284973 | MAE Test Loss: 0.3180275559425354 \n",
      "Epoch: 20 | MAE Train Loss: 0.3247582018375397 | MAE Test Loss: 0.30455657839775085 \n",
      "Epoch: 21 | MAE Train Loss: 0.31323719024658203 | MAE Test Loss: 0.2910855710506439 \n",
      "Epoch: 22 | MAE Train Loss: 0.3017162084579468 | MAE Test Loss: 0.2776145935058594 \n",
      "Epoch: 23 | MAE Train Loss: 0.2901952266693115 | MAE Test Loss: 0.26414358615875244 \n",
      "Epoch: 24 | MAE Train Loss: 0.2786742150783539 | MAE Test Loss: 0.2506726384162903 \n",
      "Epoch: 25 | MAE Train Loss: 0.267153263092041 | MAE Test Loss: 0.23720164597034454 \n",
      "Epoch: 26 | MAE Train Loss: 0.2556322515010834 | MAE Test Loss: 0.22373066842556 \n",
      "Epoch: 27 | MAE Train Loss: 0.2441112995147705 | MAE Test Loss: 0.21025967597961426 \n",
      "Epoch: 28 | MAE Train Loss: 0.23259030282497406 | MAE Test Loss: 0.1967886984348297 \n",
      "Epoch: 29 | MAE Train Loss: 0.2210693210363388 | MAE Test Loss: 0.18331770598888397 \n",
      "Epoch: 30 | MAE Train Loss: 0.20954833924770355 | MAE Test Loss: 0.16984669864177704 \n",
      "Epoch: 31 | MAE Train Loss: 0.1980273425579071 | MAE Test Loss: 0.15637575089931488 \n",
      "Epoch: 32 | MAE Train Loss: 0.18650634586811066 | MAE Test Loss: 0.14290474355220795 \n",
      "Epoch: 33 | MAE Train Loss: 0.1749853491783142 | MAE Test Loss: 0.1294337660074234 \n",
      "Epoch: 34 | MAE Train Loss: 0.16346438229084015 | MAE Test Loss: 0.11596281826496124 \n",
      "Epoch: 35 | MAE Train Loss: 0.1519434005022049 | MAE Test Loss: 0.1024918332695961 \n",
      "Epoch: 36 | MAE Train Loss: 0.14042238891124725 | MAE Test Loss: 0.08902084082365036 \n",
      "Epoch: 37 | MAE Train Loss: 0.128901407122612 | MAE Test Loss: 0.07554984837770462 \n",
      "Epoch: 38 | MAE Train Loss: 0.11738043278455734 | MAE Test Loss: 0.06207885965704918 \n",
      "Epoch: 39 | MAE Train Loss: 0.1058594360947609 | MAE Test Loss: 0.048607874661684036 \n",
      "Epoch: 40 | MAE Train Loss: 0.09433845430612564 | MAE Test Loss: 0.03513690456748009 \n",
      "Epoch: 41 | MAE Train Loss: 0.0828174576163292 | MAE Test Loss: 0.021665919572114944 \n",
      "Epoch: 42 | MAE Train Loss: 0.07129647582769394 | MAE Test Loss: 0.008412850089371204 \n",
      "Epoch: 43 | MAE Train Loss: 0.05977549031376839 | MAE Test Loss: 0.006606984417885542 \n",
      "Epoch: 44 | MAE Train Loss: 0.048254501074552536 | MAE Test Loss: 0.018747026100754738 \n",
      "Epoch: 45 | MAE Train Loss: 0.03738182410597801 | MAE Test Loss: 0.029703443869948387 \n",
      "Epoch: 46 | MAE Train Loss: 0.030850563198328018 | MAE Test Loss: 0.03664686158299446 \n",
      "Epoch: 47 | MAE Train Loss: 0.02764224074780941 | MAE Test Loss: 0.04128924012184143 \n",
      "Epoch: 48 | MAE Train Loss: 0.025835609063506126 | MAE Test Loss: 0.044442154467105865 \n",
      "Epoch: 49 | MAE Train Loss: 0.02469830960035324 | MAE Test Loss: 0.046863656491041183 \n",
      "Epoch: 50 | MAE Train Loss: 0.023886388167738914 | MAE Test Loss: 0.04784907028079033 \n",
      "Epoch: 51 | MAE Train Loss: 0.023356428369879723 | MAE Test Loss: 0.04883447289466858 \n",
      "Epoch: 52 | MAE Train Loss: 0.022868333384394646 | MAE Test Loss: 0.04911517724394798 \n",
      "Epoch: 53 | MAE Train Loss: 0.022455641999840736 | MAE Test Loss: 0.04939587041735649 \n",
      "Epoch: 54 | MAE Train Loss: 0.022062918171286583 | MAE Test Loss: 0.048980750143527985 \n",
      "Epoch: 55 | MAE Train Loss: 0.0217101089656353 | MAE Test Loss: 0.048565614968538284 \n",
      "Epoch: 56 | MAE Train Loss: 0.021357299759984016 | MAE Test Loss: 0.04815049096941948 \n",
      "Epoch: 57 | MAE Train Loss: 0.021004488691687584 | MAE Test Loss: 0.04773538187146187 \n",
      "Epoch: 58 | MAE Train Loss: 0.020651673898100853 | MAE Test Loss: 0.04732024669647217 \n",
      "Epoch: 59 | MAE Train Loss: 0.02029886282980442 | MAE Test Loss: 0.04690512642264366 \n",
      "Epoch: 60 | MAE Train Loss: 0.019956795498728752 | MAE Test Loss: 0.045803118497133255 \n",
      "Epoch: 61 | MAE Train Loss: 0.019609849900007248 | MAE Test Loss: 0.04538799077272415 \n",
      "Epoch: 62 | MAE Train Loss: 0.019271593540906906 | MAE Test Loss: 0.044285982847213745 \n",
      "Epoch: 63 | MAE Train Loss: 0.0189225934445858 | MAE Test Loss: 0.04318398982286453 \n",
      "Epoch: 64 | MAE Train Loss: 0.01858464628458023 | MAE Test Loss: 0.04276885464787483 \n",
      "Epoch: 65 | MAE Train Loss: 0.018237387761473656 | MAE Test Loss: 0.04166685417294502 \n",
      "Epoch: 66 | MAE Train Loss: 0.01789563149213791 | MAE Test Loss: 0.04125171899795532 \n",
      "Epoch: 67 | MAE Train Loss: 0.017552189528942108 | MAE Test Loss: 0.04014972597360611 \n",
      "Epoch: 68 | MAE Train Loss: 0.017206626012921333 | MAE Test Loss: 0.03973459079861641 \n",
      "Epoch: 69 | MAE Train Loss: 0.016866983845829964 | MAE Test Loss: 0.0386325903236866 \n",
      "Epoch: 70 | MAE Train Loss: 0.016517987474799156 | MAE Test Loss: 0.037530567497015 \n",
      "Epoch: 71 | MAE Train Loss: 0.01618141122162342 | MAE Test Loss: 0.03711546212434769 \n",
      "Epoch: 72 | MAE Train Loss: 0.01583278924226761 | MAE Test Loss: 0.03601343557238579 \n",
      "Epoch: 73 | MAE Train Loss: 0.01549240481108427 | MAE Test Loss: 0.03559832647442818 \n",
      "Epoch: 74 | MAE Train Loss: 0.015147584490478039 | MAE Test Loss: 0.03449630364775658 \n",
      "Epoch: 75 | MAE Train Loss: 0.014803391881287098 | MAE Test Loss: 0.034081198275089264 \n",
      "Epoch: 76 | MAE Train Loss: 0.014462386257946491 | MAE Test Loss: 0.032979171723127365 \n",
      "Epoch: 77 | MAE Train Loss: 0.014114384539425373 | MAE Test Loss: 0.032564062625169754 \n",
      "Epoch: 78 | MAE Train Loss: 0.013777181506156921 | MAE Test Loss: 0.031462039798498154 \n",
      "Epoch: 79 | MAE Train Loss: 0.013428181409835815 | MAE Test Loss: 0.030360031872987747 \n",
      "Epoch: 80 | MAE Train Loss: 0.013089174404740334 | MAE Test Loss: 0.02994490973651409 \n",
      "Epoch: 81 | MAE Train Loss: 0.012742983177304268 | MAE Test Loss: 0.028842901811003685 \n",
      "Epoch: 82 | MAE Train Loss: 0.01240016520023346 | MAE Test Loss: 0.02842777408659458 \n",
      "Epoch: 83 | MAE Train Loss: 0.012057777494192123 | MAE Test Loss: 0.027325768023729324 \n",
      "Epoch: 84 | MAE Train Loss: 0.011711154133081436 | MAE Test Loss: 0.02691064588725567 \n",
      "Epoch: 85 | MAE Train Loss: 0.01137258019298315 | MAE Test Loss: 0.025808637961745262 \n",
      "Epoch: 86 | MAE Train Loss: 0.01102358102798462 | MAE Test Loss: 0.024706637486815453 \n",
      "Epoch: 87 | MAE Train Loss: 0.010685942135751247 | MAE Test Loss: 0.0242915041744709 \n",
      "Epoch: 88 | MAE Train Loss: 0.010338379070162773 | MAE Test Loss: 0.023189503699541092 \n",
      "Epoch: 89 | MAE Train Loss: 0.009996932931244373 | MAE Test Loss: 0.02277437411248684 \n",
      "Epoch: 90 | MAE Train Loss: 0.009653178043663502 | MAE Test Loss: 0.02167237363755703 \n",
      "Epoch: 91 | MAE Train Loss: 0.00930792186409235 | MAE Test Loss: 0.02125724032521248 \n",
      "Epoch: 92 | MAE Train Loss: 0.008967976085841656 | MAE Test Loss: 0.02015523985028267 \n",
      "Epoch: 93 | MAE Train Loss: 0.008618975058197975 | MAE Test Loss: 0.019053233787417412 \n",
      "Epoch: 94 | MAE Train Loss: 0.008282712660729885 | MAE Test Loss: 0.018638109788298607 \n",
      "Epoch: 95 | MAE Train Loss: 0.007933772169053555 | MAE Test Loss: 0.017536098137497902 \n",
      "Epoch: 96 | MAE Train Loss: 0.007593703921884298 | MAE Test Loss: 0.017120976001024246 \n",
      "Epoch: 97 | MAE Train Loss: 0.0072485716082155704 | MAE Test Loss: 0.01601896993815899 \n",
      "Epoch: 98 | MAE Train Loss: 0.006904691457748413 | MAE Test Loss: 0.015603846870362759 \n",
      "Epoch: 99 | MAE Train Loss: 0.006563369184732437 | MAE Test Loss: 0.014501834288239479 \n"
     ]
    }
   ],
   "source": [
    "# Set manual seed since nn.Parameter are randomly initialzied\n",
    "torch.manual_seed(42)\n",
    "\n",
    "# Create an instance of the model (this is a subclass of nn.Module that contains nn.Parameter(s))\n",
    "model_0 = LinearRegressionModel()\n",
    "\n",
    "# Check the nn.Parameter(s) within the nn.Module subclass we created\n",
    "# list(model_0.parameters())\n",
    "\n",
    "# Create the loss function\n",
    "loss_fn = nn.L1Loss() # MAE loss is same as L1Loss\n",
    "\n",
    "# Create the optimizer\n",
    "optimizer = torch.optim.SGD(params=model_0.parameters(), # parameters of target model to optimize\n",
    "                            lr=0.01) # learning rate (how much the optimizer should change parameters at each step, higher=more (less stable), lower=less (might take a long time))\n",
    "\n",
    "\n",
    "model_0.to(device)\n",
    "\n",
    "X_train = X_train.to(device)\n",
    "X_test = X_test.to(device)\n",
    "y_train = y_train.to(device)\n",
    "y_test = y_test.to(device)\n",
    "\n",
    "# Set the number of epochs (how many times the model will pass over the training data)\n",
    "epochs = 100\n",
    "\n",
    "# Create empty loss lists to track values\n",
    "train_loss_values = torch.empty(epochs, requires_grad=False).to(device)\n",
    "test_loss_values = torch.empty(epochs, requires_grad=False).to(device)\n",
    "epoch_count = torch.empty(epochs, requires_grad=False).to(device)\n",
    "\n",
    "for epoch in range(epochs):\n",
    "    ### Training\n",
    "\n",
    "    # Put model in training mode (this is the default state of a model)\n",
    "    model_0.train()\n",
    "\n",
    "    # 1. Forward pass on train data using the forward() method inside\n",
    "    y_pred = model_0(X_train)\n",
    "    # print(y_pred)\n",
    "\n",
    "    # 2. Calculate the loss (how different are our models predictions to the ground truth)\n",
    "    loss = loss_fn(y_pred, y_train)\n",
    "\n",
    "    # 3. Zero grad of the optimizer\n",
    "    optimizer.zero_grad()\n",
    "\n",
    "    # 4. Loss backwards\n",
    "    loss.backward()\n",
    "\n",
    "    # 5. Progress the optimizer\n",
    "    optimizer.step()\n",
    "\n",
    "    ### Testing\n",
    "\n",
    "    # Put the model in evaluation mode\n",
    "    model_0.eval()\n",
    "\n",
    "    # if epoch % 10 == 0:\n",
    "    with torch.inference_mode():\n",
    "        test_preds = model_0(X_test)\n",
    "        test_loss = loss_fn(test_preds, y_test)\n",
    "        print(f\"Epoch: {epoch} | MAE Train Loss: {loss} | MAE Test Loss: {test_loss} \")\n",
    "        epoch_count[[epoch]] = epoch\n",
    "        test_loss_values[[epoch]] = test_loss\n",
    "        train_loss_values[[epoch]] = loss"
   ],
   "metadata": {
    "collapsed": false
   }
  },
  {
   "cell_type": "code",
   "execution_count": 21,
   "outputs": [
    {
     "data": {
      "text/plain": "OrderedDict([('linear_layer.weight', tensor([[0.6691]], device='cuda:0')),\n             ('linear_layer.bias', tensor([0.3130], device='cuda:0'))])"
     },
     "execution_count": 21,
     "metadata": {},
     "output_type": "execute_result"
    },
    {
     "data": {
      "text/plain": "<Figure size 1000x700 with 1 Axes>",
      "image/png": "[encoded data removed]"
     },
     "metadata": {},
     "output_type": "display_data"
    }
   ],
   "source": [
    "\n",
    "plot_predictions(predictions=test_preds.cpu())\n",
    "model_0.state_dict()"
   ],
   "metadata": {
    "collapsed": false
   }
  },
  {
   "cell_type": "code",
   "execution_count": 22,
   "outputs": [
    {
     "data": {
      "text/plain": "<Figure size 640x480 with 1 Axes>",
      "image/png": "[encoded data removed]"
     },
     "metadata": {},
     "output_type": "display_data"
    }
   ],
   "source": [
    "with torch.inference_mode():\n",
    "    plt.plot(epoch_count.cpu(), train_loss_values.cpu(), label = 'Train Loss')\n",
    "    plt.plot(epoch_count.cpu(), test_loss_values.cpu(), label = 'Test Loss')\n",
    "    plt.title(\"Training and Test Loss Curves\")\n",
    "    plt.ylabel ('Loss')\n",
    "    plt.xlabel('Epochs')\n",
    "    plt.legend()"
   ],
   "metadata": {
    "collapsed": false
   }
  },
  {
   "cell_type": "code",
   "execution_count": 23,
   "outputs": [],
   "source": [
    "torch.save(obj=model_0.state_dict(), f = 'linear_regression_state.pth')"
   ],
   "metadata": {
    "collapsed": false
   }
  },
  {
   "cell_type": "code",
   "execution_count": 24,
   "outputs": [
    {
     "data": {
      "text/plain": "OrderedDict([('linear_layer.weight', tensor([[0.6691]])),\n             ('linear_layer.bias', tensor([0.3130]))])"
     },
     "execution_count": 24,
     "metadata": {},
     "output_type": "execute_result"
    }
   ],
   "source": [
    "loaded_model_0 = LinearRegressionModel()\n",
    "\n",
    "loaded_model_0.load_state_dict(torch.load('linear_regression_state.pth'))\n",
    "\n",
    "loaded_model_0.state_dict()"
   ],
   "metadata": {
    "collapsed": false
   }
  },
  {
   "cell_type": "code",
   "execution_count": null,
   "outputs": [],
   "source": [],
   "metadata": {
    "collapsed": false
   }
  }
 ],
 "metadata": {
  "kernelspec": {
   "display_name": "Python 3",
   "language": "python",
   "name": "python3"
  },
  "language_info": {
   "codemirror_mode": {
    "name": "ipython",
    "version": 2
   },
   "file_extension": ".py",
   "mimetype": "text/x-python",
   "name": "python",
   "nbconvert_exporter": "python",
   "pygments_lexer": "ipython2",
   "version": "2.7.6"
  }
 },
 "nbformat": 4,
 "nbformat_minor": 0
}
